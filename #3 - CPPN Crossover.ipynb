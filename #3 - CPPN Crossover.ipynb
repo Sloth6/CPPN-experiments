{
 "cells": [
  {
   "cell_type": "markdown",
   "metadata": {},
   "source": [
    "# Phenotypic Conservation in CPPN Crossover"
   ]
  },
  {
   "cell_type": "markdown",
   "metadata": {},
   "source": [
    "Here the crossover of random CPPN is inspected. Ideally, the child of crossover should share some phenotypic traits from each parent. The suspicion is that CPPN change dramatically during crossover."
   ]
  },
  {
   "cell_type": "code",
   "execution_count": null,
   "metadata": {
    "collapsed": false
   },
   "outputs": [],
   "source": [
    "%load_ext autoreload\n",
    "%autoreload 2\n",
    "%matplotlib inline\n",
    "\n",
    "import numpy as np\n",
    "import matplotlib.pyplot as plt\n",
    "from neat import genome, config, indexer, nn\n",
    "from src import cppn"
   ]
  },
  {
   "cell_type": "code",
   "execution_count": 175,
   "metadata": {
    "collapsed": false
   },
   "outputs": [],
   "source": [
    "indx = indexer.InnovationIndexer(0)\n",
    "conf = config.Config('config.txt')"
   ]
  },
  {
   "cell_type": "code",
   "execution_count": 197,
   "metadata": {
    "collapsed": true
   },
   "outputs": [],
   "source": [
    "def express_cppn(genome, w, h):\n",
    "    net = nn.create_feed_forward_phenotype(genome)\n",
    "    grid = np.zeros((w, h))\n",
    "    for x in range(w):\n",
    "        for y in range(h):\n",
    "            _x = -1.0 + 2.0 * x / (w - 1) # Map x, y to [-1, 1]\n",
    "            _y = -1.0 + 2.0 * y / (h - 1)\n",
    "            out = net.serial_activate([_x, _y])\n",
    "            grid[x, y] = out[0]\n",
    "    return grid\n",
    "\n",
    "def three_image_plot(imga, imgb, imgc):\n",
    "    f, axes = plt.subplots(1, 3)\n",
    "    for a in axes:\n",
    "        a.set_xticks([])\n",
    "        a.set_yticks([])\n",
    "    axes[0].set_title('Parent A')\n",
    "    axes[1].set_title('Parent B')\n",
    "    axes[2].set_title('Child')\n",
    "    axes[0].imshow(imga, cmap='gray', interpolation='nearest')\n",
    "    axes[1].imshow(imgb, cmap='gray', interpolation='nearest')\n",
    "    axes[2].imshow(imgc, cmap='gray', interpolation='nearest')\n",
    "\n",
    "def show_crossover(mutations = 0):\n",
    "    w = 16\n",
    "    genome1 = genome.Genome.create_unconnected(0, conf)\n",
    "    genome2 = genome.Genome.create_unconnected(1, conf)\n",
    "\n",
    "    genome1.connect_full(indx)\n",
    "    genome2.connect_full(indx)\n",
    "\n",
    "    for _ in range(mutations):\n",
    "        genome1.mutate(indx)\n",
    "        genome2.mutate(indx)\n",
    "    \n",
    "    genome1.fitness = 1 # For assertions in crossover to pass.\n",
    "    genome2.fitness = 0\n",
    "    genome3 = genome1.crossover(genome2, child_id = 2)\n",
    "    \n",
    "    a = express_cppn(genome1, w, w)\n",
    "    b = express_cppn(genome2, w, w)\n",
    "    c = express_cppn(genome3, w, w)\n",
    "    \n",
    "    three_image_plot(a, b, c)"
   ]
  },
  {
   "cell_type": "code",
   "execution_count": 198,
   "metadata": {
    "collapsed": false
   },
   "outputs": [
    {
     "data": {
      "image/png": "[encoded data removed]",
      "text/plain": [
       "<matplotlib.figure.Figure at 0x10a068b38>"
      ]
     },
     "metadata": {},
     "output_type": "display_data"
    }
   ],
   "source": [
    "show_crossover()"
   ]
  },
  {
   "cell_type": "code",
   "execution_count": 199,
   "metadata": {
    "collapsed": false
   },
   "outputs": [
    {
     "data": {
      "image/png": "[encoded data removed]",
      "text/plain": [
       "<matplotlib.figure.Figure at 0x109c4aeb8>"
      ]
     },
     "metadata": {},
     "output_type": "display_data"
    }
   ],
   "source": [
    "show_crossover()"
   ]
  },
  {
   "cell_type": "code",
   "execution_count": 200,
   "metadata": {
    "collapsed": false
   },
   "outputs": [
    {
     "data": {
      "image/png": "[encoded data removed]",
      "text/plain": [
       "<matplotlib.figure.Figure at 0x10a1319e8>"
      ]
     },
     "metadata": {},
     "output_type": "display_data"
    }
   ],
   "source": [
    "show_crossover()"
   ]
  },
  {
   "cell_type": "code",
   "execution_count": 201,
   "metadata": {
    "collapsed": false
   },
   "outputs": [
    {
     "data": {
      "image/png": "[encoded data removed]",
      "text/plain": [
       "<matplotlib.figure.Figure at 0x10a1def28>"
      ]
     },
     "metadata": {},
     "output_type": "display_data"
    }
   ],
   "source": [
    "show_crossover()"
   ]
  },
  {
   "cell_type": "code",
   "execution_count": 202,
   "metadata": {
    "collapsed": false
   },
   "outputs": [
    {
     "data": {
      "image/png": "[encoded data removed]",
      "text/plain": [
       "<matplotlib.figure.Figure at 0x10a566278>"
      ]
     },
     "metadata": {},
     "output_type": "display_data"
    }
   ],
   "source": [
    "show_crossover()"
   ]
  },
  {
   "cell_type": "code",
   "execution_count": 203,
   "metadata": {
    "collapsed": false
   },
   "outputs": [
    {
     "data": {
      "image/png": "[encoded data removed]",
      "text/plain": [
       "<matplotlib.figure.Figure at 0x10a5ba860>"
      ]
     },
     "metadata": {},
     "output_type": "display_data"
    }
   ],
   "source": [
    "show_crossover()"
   ]
  },
  {
   "cell_type": "code",
   "execution_count": 204,
   "metadata": {
    "collapsed": false
   },
   "outputs": [
    {
     "data": {
      "image/png": "[encoded data removed]",
      "text/plain": [
       "<matplotlib.figure.Figure at 0x10a654048>"
      ]
     },
     "metadata": {},
     "output_type": "display_data"
    }
   ],
   "source": [
    "show_crossover()"
   ]
  },
  {
   "cell_type": "code",
   "execution_count": 205,
   "metadata": {
    "collapsed": false
   },
   "outputs": [
    {
     "data": {
      "image/png": "[encoded data removed]",
      "text/plain": [
       "<matplotlib.figure.Figure at 0x109c36860>"
      ]
     },
     "metadata": {},
     "output_type": "display_data"
    }
   ],
   "source": [
    "show_crossover()"
   ]
  },
  {
   "cell_type": "code",
   "execution_count": 213,
   "metadata": {
    "collapsed": false
   },
   "outputs": [
    {
     "data": {
      "image/png": "[encoded data removed]",
      "text/plain": [
       "<matplotlib.figure.Figure at 0x10a81f7f0>"
      ]
     },
     "metadata": {},
     "output_type": "display_data"
    }
   ],
   "source": [
    "show_crossover()"
   ]
  },
  {
   "cell_type": "code",
   "execution_count": 212,
   "metadata": {
    "collapsed": false
   },
   "outputs": [
    {
     "data": {
      "image/png": "[encoded data removed]",
      "text/plain": [
       "<matplotlib.figure.Figure at 0x10a6d7d30>"
      ]
     },
     "metadata": {},
     "output_type": "display_data"
    }
   ],
   "source": [
    "show_crossover(mutations=10)"
   ]
  },
  {
   "cell_type": "markdown",
   "metadata": {},
   "source": [
    "## Concluding Thoughts"
   ]
  },
  {
   "cell_type": "markdown",
   "metadata": {},
   "source": [
    "In most of the above examples the child strongly resembles only one of the the two parents. Now I understand why pic breeder only had mutations and not crossover.\n",
    "\n",
    "I think it is worth pursuing metrics that can be used to evaluate the evolvability of a system independent of specific examples. In this work I had to arbitrarily pick two test cases, a problem agnostic evalaution of evolvable sytems could be very helpful\n",
    "\n",
    "I propose two:\n",
    "1. The sharing of conserved phenotypic traits during crossover.\n",
    "2. Measuing bias by exaustion of the phenotype space during novelty search\n",
    "\n",
    "A very interesting project would be to evaluate several modelson the above, and then comapre those results to how the systems do on real problems.\n",
    "\n",
    "** Regarding Genotype To Phenotype Mappings **\n",
    "\n",
    "It is well accepted that indirect mapping have the ability to scale through the use of modularity, repetition and recursion. However, doing so in a way that does not bias search, allows a large dynamic range of mutations and conserve traits through crossover is still not obtained to my knowledge. \n",
    "\n",
    "\n",
    "\n",
    "TODO:\n",
    "* keep working on other indirect / direct mapping hybrid ideas.\n",
    "* read the hyperneat papers\n",
    "* read \"On the Performance of Indirect Encoding Across the Continuum of Regularity\"\n",
    "* read \"A Taxonomy for Artificial Embryogeny\"\n"
   ]
  },
  {
   "cell_type": "code",
   "execution_count": null,
   "metadata": {
    "collapsed": true
   },
   "outputs": [],
   "source": []
  }
 ],
 "metadata": {
  "kernelspec": {
   "display_name": "Python 3",
   "language": "python",
   "name": "python3"
  }
 },
 "nbformat": 4,
 "nbformat_minor": 2
}
