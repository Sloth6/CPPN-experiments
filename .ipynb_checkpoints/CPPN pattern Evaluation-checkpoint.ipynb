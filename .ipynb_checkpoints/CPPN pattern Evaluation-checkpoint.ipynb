{
 "cells": [
  {
   "cell_type": "markdown",
   "metadata": {},
   "source": [
    "# CPPN testing"
   ]
  },
  {
   "cell_type": "code",
   "execution_count": 84,
   "metadata": {
    "collapsed": false
   },
   "outputs": [
    {
     "name": "stdout",
     "output_type": "stream",
     "text": [
      "The autoreload extension is already loaded. To reload it, use:\n",
      "  %reload_ext autoreload\n"
     ]
    }
   ],
   "source": [
    "%load_ext autoreload\n",
    "%autoreload 2\n",
    "%matplotlib inline"
   ]
  },
  {
   "cell_type": "code",
   "execution_count": 85,
   "metadata": {
    "collapsed": false
   },
   "outputs": [],
   "source": [
    "import numpy as np\n",
    "from neat.config import Config\n",
    "import patterns\n",
    "import cppn\n",
    "from plot import plot"
   ]
  },
  {
   "cell_type": "code",
   "execution_count": 87,
   "metadata": {
    "collapsed": false
   },
   "outputs": [],
   "source": [
    "# GA params\n",
    "num_gens = 100\n",
    "config = Config('config.txt')\n",
    "config.pop_size = 100\n",
    "\n",
    "# GA metaparams\n",
    "num_repeats = 5\n",
    "dimensions = [16, 32, 64]\n",
    "\n",
    "targets = [[patterns.random(d, d), patterns.checkerboard(d, d, 4)] for d in dimensions]"
   ]
  },
  {
   "cell_type": "code",
   "execution_count": 88,
   "metadata": {
    "collapsed": false
   },
   "outputs": [
    {
     "name": "stdout",
     "output_type": "stream",
     "text": [
      "\u001b[92m #\u001b[90m _\u001b[90m _\u001b[92m #\u001b[90m _\u001b[92m #\u001b[92m #\u001b[90m _\u001b[90m _\u001b[92m #\u001b[90m _\u001b[90m _\u001b[92m #\u001b[90m _\u001b[90m _\u001b[90m _\n",
      "\u001b[90m _\u001b[92m #\u001b[92m #\u001b[92m #\u001b[90m _\u001b[90m _\u001b[92m #\u001b[92m #\u001b[90m _\u001b[92m #\u001b[92m #\u001b[92m #\u001b[92m #\u001b[92m #\u001b[92m #\u001b[92m #\n",
      "\u001b[90m _\u001b[92m #\u001b[90m _\u001b[90m _\u001b[90m _\u001b[90m _\u001b[90m _\u001b[90m _\u001b[92m #\u001b[92m #\u001b[90m _\u001b[90m _\u001b[92m #\u001b[92m #\u001b[90m _\u001b[90m _\n",
      "\u001b[92m #\u001b[92m #\u001b[90m _\u001b[92m #\u001b[90m _\u001b[90m _\u001b[92m #\u001b[92m #\u001b[90m _\u001b[92m #\u001b[92m #\u001b[92m #\u001b[90m _\u001b[92m #\u001b[90m _\u001b[90m _\n",
      "\u001b[90m _\u001b[92m #\u001b[90m _\u001b[92m #\u001b[90m _\u001b[92m #\u001b[92m #\u001b[90m _\u001b[92m #\u001b[90m _\u001b[92m #\u001b[92m #\u001b[90m _\u001b[92m #\u001b[90m _\u001b[92m #\n",
      "\u001b[92m #\u001b[92m #\u001b[92m #\u001b[92m #\u001b[90m _\u001b[90m _\u001b[90m _\u001b[90m _\u001b[92m #\u001b[92m #\u001b[92m #\u001b[90m _\u001b[90m _\u001b[92m #\u001b[92m #\u001b[92m #\n",
      "\u001b[92m #\u001b[90m _\u001b[90m _\u001b[90m _\u001b[92m #\u001b[92m #\u001b[92m #\u001b[90m _\u001b[90m _\u001b[92m #\u001b[90m _\u001b[90m _\u001b[90m _\u001b[92m #\u001b[90m _\u001b[92m #\n",
      "\u001b[90m _\u001b[92m #\u001b[90m _\u001b[92m #\u001b[90m _\u001b[92m #\u001b[90m _\u001b[90m _\u001b[92m #\u001b[92m #\u001b[90m _\u001b[90m _\u001b[90m _\u001b[92m #\u001b[90m _\u001b[90m _\n",
      "\u001b[90m _\u001b[92m #\u001b[92m #\u001b[92m #\u001b[92m #\u001b[90m _\u001b[92m #\u001b[90m _\u001b[90m _\u001b[90m _\u001b[90m _\u001b[90m _\u001b[92m #\u001b[90m _\u001b[90m _\u001b[90m _\n",
      "\u001b[92m #\u001b[92m #\u001b[92m #\u001b[90m _\u001b[90m _\u001b[90m _\u001b[92m #\u001b[92m #\u001b[90m _\u001b[92m #\u001b[90m _\u001b[92m #\u001b[90m _\u001b[92m #\u001b[90m _\u001b[90m _\n",
      "\u001b[92m #\u001b[92m #\u001b[92m #\u001b[90m _\u001b[92m #\u001b[92m #\u001b[92m #\u001b[92m #\u001b[90m _\u001b[90m _\u001b[92m #\u001b[92m #\u001b[92m #\u001b[92m #\u001b[92m #\u001b[90m _\n",
      "\u001b[90m _\u001b[92m #\u001b[92m #\u001b[90m _\u001b[92m #\u001b[90m _\u001b[90m _\u001b[92m #\u001b[90m _\u001b[92m #\u001b[92m #\u001b[90m _\u001b[92m #\u001b[92m #\u001b[90m _\u001b[90m _\n",
      "\u001b[92m #\u001b[92m #\u001b[90m _\u001b[90m _\u001b[92m #\u001b[92m #\u001b[90m _\u001b[92m #\u001b[90m _\u001b[90m _\u001b[92m #\u001b[90m _\u001b[90m _\u001b[90m _\u001b[92m #\u001b[92m #\n",
      "\u001b[92m #\u001b[92m #\u001b[92m #\u001b[92m #\u001b[90m _\u001b[90m _\u001b[90m _\u001b[92m #\u001b[92m #\u001b[90m _\u001b[92m #\u001b[90m _\u001b[92m #\u001b[92m #\u001b[90m _\u001b[92m #\n",
      "\u001b[92m #\u001b[90m _\u001b[92m #\u001b[92m #\u001b[92m #\u001b[92m #\u001b[92m #\u001b[90m _\u001b[92m #\u001b[92m #\u001b[90m _\u001b[92m #\u001b[90m _\u001b[90m _\u001b[90m _\u001b[92m #\n",
      "\u001b[92m #\u001b[90m _\u001b[92m #\u001b[92m #\u001b[92m #\u001b[92m #\u001b[90m _\u001b[90m _\u001b[92m #\u001b[90m _\u001b[92m #\u001b[90m _\u001b[92m #\u001b[92m #\u001b[90m _\u001b[92m #\n",
      "\u001b[00m\n",
      "\u001b[92m #\u001b[92m #\u001b[92m #\u001b[92m #\u001b[90m _\u001b[90m _\u001b[90m _\u001b[90m _\u001b[92m #\u001b[92m #\u001b[92m #\u001b[92m #\u001b[90m _\u001b[90m _\u001b[90m _\u001b[90m _\n",
      "\u001b[92m #\u001b[92m #\u001b[92m #\u001b[92m #\u001b[90m _\u001b[90m _\u001b[90m _\u001b[90m _\u001b[92m #\u001b[92m #\u001b[92m #\u001b[92m #\u001b[90m _\u001b[90m _\u001b[90m _\u001b[90m _\n",
      "\u001b[92m #\u001b[92m #\u001b[92m #\u001b[92m #\u001b[90m _\u001b[90m _\u001b[90m _\u001b[90m _\u001b[92m #\u001b[92m #\u001b[92m #\u001b[92m #\u001b[90m _\u001b[90m _\u001b[90m _\u001b[90m _\n",
      "\u001b[92m #\u001b[92m #\u001b[92m #\u001b[92m #\u001b[90m _\u001b[90m _\u001b[90m _\u001b[90m _\u001b[92m #\u001b[92m #\u001b[92m #\u001b[92m #\u001b[90m _\u001b[90m _\u001b[90m _\u001b[90m _\n",
      "\u001b[90m _\u001b[90m _\u001b[90m _\u001b[90m _\u001b[92m #\u001b[92m #\u001b[92m #\u001b[92m #\u001b[90m _\u001b[90m _\u001b[90m _\u001b[90m _\u001b[92m #\u001b[92m #\u001b[92m #\u001b[92m #\n",
      "\u001b[90m _\u001b[90m _\u001b[90m _\u001b[90m _\u001b[92m #\u001b[92m #\u001b[92m #\u001b[92m #\u001b[90m _\u001b[90m _\u001b[90m _\u001b[90m _\u001b[92m #\u001b[92m #\u001b[92m #\u001b[92m #\n",
      "\u001b[90m _\u001b[90m _\u001b[90m _\u001b[90m _\u001b[92m #\u001b[92m #\u001b[92m #\u001b[92m #\u001b[90m _\u001b[90m _\u001b[90m _\u001b[90m _\u001b[92m #\u001b[92m #\u001b[92m #\u001b[92m #\n",
      "\u001b[90m _\u001b[90m _\u001b[90m _\u001b[90m _\u001b[92m #\u001b[92m #\u001b[92m #\u001b[92m #\u001b[90m _\u001b[90m _\u001b[90m _\u001b[90m _\u001b[92m #\u001b[92m #\u001b[92m #\u001b[92m #\n",
      "\u001b[92m #\u001b[92m #\u001b[92m #\u001b[92m #\u001b[90m _\u001b[90m _\u001b[90m _\u001b[90m _\u001b[92m #\u001b[92m #\u001b[92m #\u001b[92m #\u001b[90m _\u001b[90m _\u001b[90m _\u001b[90m _\n",
      "\u001b[92m #\u001b[92m #\u001b[92m #\u001b[92m #\u001b[90m _\u001b[90m _\u001b[90m _\u001b[90m _\u001b[92m #\u001b[92m #\u001b[92m #\u001b[92m #\u001b[90m _\u001b[90m _\u001b[90m _\u001b[90m _\n",
      "\u001b[92m #\u001b[92m #\u001b[92m #\u001b[92m #\u001b[90m _\u001b[90m _\u001b[90m _\u001b[90m _\u001b[92m #\u001b[92m #\u001b[92m #\u001b[92m #\u001b[90m _\u001b[90m _\u001b[90m _\u001b[90m _\n",
      "\u001b[92m #\u001b[92m #\u001b[92m #\u001b[92m #\u001b[90m _\u001b[90m _\u001b[90m _\u001b[90m _\u001b[92m #\u001b[92m #\u001b[92m #\u001b[92m #\u001b[90m _\u001b[90m _\u001b[90m _\u001b[90m _\n",
      "\u001b[90m _\u001b[90m _\u001b[90m _\u001b[90m _\u001b[92m #\u001b[92m #\u001b[92m #\u001b[92m #\u001b[90m _\u001b[90m _\u001b[90m _\u001b[90m _\u001b[92m #\u001b[92m #\u001b[92m #\u001b[92m #\n",
      "\u001b[90m _\u001b[90m _\u001b[90m _\u001b[90m _\u001b[92m #\u001b[92m #\u001b[92m #\u001b[92m #\u001b[90m _\u001b[90m _\u001b[90m _\u001b[90m _\u001b[92m #\u001b[92m #\u001b[92m #\u001b[92m #\n",
      "\u001b[90m _\u001b[90m _\u001b[90m _\u001b[90m _\u001b[92m #\u001b[92m #\u001b[92m #\u001b[92m #\u001b[90m _\u001b[90m _\u001b[90m _\u001b[90m _\u001b[92m #\u001b[92m #\u001b[92m #\u001b[92m #\n",
      "\u001b[90m _\u001b[90m _\u001b[90m _\u001b[90m _\u001b[92m #\u001b[92m #\u001b[92m #\u001b[92m #\u001b[90m _\u001b[90m _\u001b[90m _\u001b[90m _\u001b[92m #\u001b[92m #\u001b[92m #\u001b[92m #\n",
      "\u001b[00m\n"
     ]
    }
   ],
   "source": [
    "patterns.pretty_print(targets[0][0]) # Prints color in terminal.\n",
    "patterns.pretty_print(targets[0][1])"
   ]
  },
  {
   "cell_type": "code",
   "execution_count": null,
   "metadata": {
    "collapsed": false
   },
   "outputs": [],
   "source": [
    "cppn_fitness = np.zeros((len(dimensions), 2, num_repeats), dtype=float)\n",
    "cppn_outputs = np.zeros((len(dimensions), 2, num_repeats), dtype=object)\n",
    "\n",
    "for di in range(len(dimensions)):\n",
    "\n",
    "    for ti, target in enumerate(targets[di]):\n",
    "\n",
    "        for ri in range(num_repeats):\n",
    "            print(di, ti, ri)\n",
    "            fitness, output = cppn.evolve_cppn(config, target, num_gens)\n",
    "\n",
    "            cppn_fitness[di, ti, ri] = fitness\n",
    "            cppn_outputs[di, ti, ri] = output\n"
   ]
  },
  {
   "cell_type": "code",
   "execution_count": 90,
   "metadata": {
    "collapsed": false
   },
   "outputs": [
    {
     "data": {
      "image/png": "[encoded data removed]",
      "text/plain": [
       "<matplotlib.figure.Figure at 0x1089b9d30>"
      ]
     },
     "metadata": {},
     "output_type": "display_data"
    }
   ],
   "source": [
    "plot(cppn_fitness, dimensions, 'Standard CPPN')"
   ]
  },
  {
   "cell_type": "code",
   "execution_count": 93,
   "metadata": {
    "collapsed": false
   },
   "outputs": [
    {
     "name": "stdout",
     "output_type": "stream",
     "text": [
      "Best output for random target\n",
      "\u001b[92m #\u001b[92m #\u001b[90m _\u001b[90m _\u001b[90m _\u001b[90m _\u001b[92m #\u001b[90m _\u001b[92m #\u001b[92m #\u001b[90m _\u001b[90m _\u001b[90m _\u001b[90m _\u001b[90m _\u001b[90m _\n",
      "\u001b[92m #\u001b[92m #\u001b[92m #\u001b[90m _\u001b[90m _\u001b[90m _\u001b[90m _\u001b[90m _\u001b[92m #\u001b[92m #\u001b[90m _\u001b[90m _\u001b[90m _\u001b[90m _\u001b[90m _\u001b[90m _\n",
      "\u001b[92m #\u001b[92m #\u001b[92m #\u001b[90m _\u001b[90m _\u001b[90m _\u001b[90m _\u001b[90m _\u001b[92m #\u001b[92m #\u001b[90m _\u001b[90m _\u001b[90m _\u001b[90m _\u001b[90m _\u001b[90m _\n",
      "\u001b[92m #\u001b[92m #\u001b[92m #\u001b[92m #\u001b[90m _\u001b[90m _\u001b[90m _\u001b[90m _\u001b[92m #\u001b[92m #\u001b[90m _\u001b[90m _\u001b[90m _\u001b[90m _\u001b[90m _\u001b[90m _\n",
      "\u001b[92m #\u001b[92m #\u001b[92m #\u001b[92m #\u001b[90m _\u001b[90m _\u001b[90m _\u001b[90m _\u001b[92m #\u001b[92m #\u001b[90m _\u001b[90m _\u001b[90m _\u001b[90m _\u001b[90m _\u001b[90m _\n",
      "\u001b[92m #\u001b[92m #\u001b[92m #\u001b[92m #\u001b[90m _\u001b[90m _\u001b[90m _\u001b[90m _\u001b[92m #\u001b[92m #\u001b[90m _\u001b[90m _\u001b[90m _\u001b[90m _\u001b[90m _\u001b[90m _\n",
      "\u001b[92m #\u001b[92m #\u001b[92m #\u001b[92m #\u001b[90m _\u001b[90m _\u001b[90m _\u001b[90m _\u001b[92m #\u001b[92m #\u001b[90m _\u001b[90m _\u001b[90m _\u001b[90m _\u001b[90m _\u001b[90m _\n",
      "\u001b[92m #\u001b[92m #\u001b[92m #\u001b[92m #\u001b[90m _\u001b[90m _\u001b[90m _\u001b[90m _\u001b[92m #\u001b[92m #\u001b[90m _\u001b[90m _\u001b[90m _\u001b[90m _\u001b[90m _\u001b[90m _\n",
      "\u001b[92m #\u001b[92m #\u001b[92m #\u001b[92m #\u001b[92m #\u001b[90m _\u001b[90m _\u001b[90m _\u001b[92m #\u001b[92m #\u001b[90m _\u001b[90m _\u001b[90m _\u001b[90m _\u001b[90m _\u001b[90m _\n",
      "\u001b[92m #\u001b[92m #\u001b[92m #\u001b[92m #\u001b[92m #\u001b[90m _\u001b[90m _\u001b[90m _\u001b[92m #\u001b[90m _\u001b[90m _\u001b[90m _\u001b[90m _\u001b[90m _\u001b[90m _\u001b[90m _\n",
      "\u001b[92m #\u001b[92m #\u001b[92m #\u001b[92m #\u001b[92m #\u001b[90m _\u001b[90m _\u001b[90m _\u001b[92m #\u001b[90m _\u001b[92m #\u001b[90m _\u001b[90m _\u001b[90m _\u001b[90m _\u001b[90m _\n",
      "\u001b[92m #\u001b[92m #\u001b[92m #\u001b[92m #\u001b[92m #\u001b[90m _\u001b[90m _\u001b[90m _\u001b[92m #\u001b[90m _\u001b[92m #\u001b[90m _\u001b[90m _\u001b[90m _\u001b[90m _\u001b[90m _\n",
      "\u001b[92m #\u001b[92m #\u001b[92m #\u001b[92m #\u001b[92m #\u001b[90m _\u001b[90m _\u001b[90m _\u001b[92m #\u001b[90m _\u001b[92m #\u001b[90m _\u001b[90m _\u001b[90m _\u001b[90m _\u001b[90m _\n",
      "\u001b[92m #\u001b[92m #\u001b[92m #\u001b[92m #\u001b[92m #\u001b[90m _\u001b[90m _\u001b[90m _\u001b[92m #\u001b[90m _\u001b[92m #\u001b[90m _\u001b[90m _\u001b[90m _\u001b[90m _\u001b[90m _\n",
      "\u001b[90m _\u001b[92m #\u001b[92m #\u001b[92m #\u001b[92m #\u001b[90m _\u001b[90m _\u001b[90m _\u001b[92m #\u001b[90m _\u001b[92m #\u001b[90m _\u001b[90m _\u001b[90m _\u001b[90m _\u001b[90m _\n",
      "\u001b[90m _\u001b[90m _\u001b[92m #\u001b[92m #\u001b[92m #\u001b[92m #\u001b[90m _\u001b[90m _\u001b[92m #\u001b[90m _\u001b[92m #\u001b[90m _\u001b[90m _\u001b[90m _\u001b[90m _\u001b[90m _\n",
      "\u001b[00m\n",
      "Best output for checkerboard target\n",
      "\u001b[92m #\u001b[92m #\u001b[90m _\u001b[90m _\u001b[90m _\u001b[90m _\u001b[90m _\u001b[90m _\u001b[90m _\u001b[92m #\u001b[92m #\u001b[92m #\u001b[92m #\u001b[90m _\u001b[90m _\u001b[90m _\n",
      "\u001b[92m #\u001b[90m _\u001b[90m _\u001b[90m _\u001b[90m _\u001b[90m _\u001b[90m _\u001b[90m _\u001b[92m #\u001b[92m #\u001b[92m #\u001b[92m #\u001b[90m _\u001b[90m _\u001b[90m _\u001b[90m _\n",
      "\u001b[90m _\u001b[90m _\u001b[90m _\u001b[90m _\u001b[90m _\u001b[90m _\u001b[90m _\u001b[92m #\u001b[92m #\u001b[92m #\u001b[90m _\u001b[90m _\u001b[90m _\u001b[90m _\u001b[90m _\u001b[90m _\n",
      "\u001b[90m _\u001b[90m _\u001b[90m _\u001b[90m _\u001b[90m _\u001b[90m _\u001b[92m #\u001b[92m #\u001b[92m #\u001b[90m _\u001b[90m _\u001b[90m _\u001b[90m _\u001b[90m _\u001b[90m _\u001b[90m _\n",
      "\u001b[90m _\u001b[90m _\u001b[90m _\u001b[90m _\u001b[90m _\u001b[92m #\u001b[92m #\u001b[92m #\u001b[90m _\u001b[90m _\u001b[90m _\u001b[90m _\u001b[90m _\u001b[90m _\u001b[90m _\u001b[92m #\n",
      "\u001b[90m _\u001b[90m _\u001b[90m _\u001b[90m _\u001b[92m #\u001b[92m #\u001b[92m #\u001b[90m _\u001b[90m _\u001b[90m _\u001b[90m _\u001b[90m _\u001b[90m _\u001b[90m _\u001b[92m #\u001b[92m #\n",
      "\u001b[90m _\u001b[90m _\u001b[92m #\u001b[92m #\u001b[92m #\u001b[92m #\u001b[90m _\u001b[90m _\u001b[90m _\u001b[90m _\u001b[90m _\u001b[90m _\u001b[90m _\u001b[92m #\u001b[92m #\u001b[92m #\n",
      "\u001b[90m _\u001b[92m #\u001b[92m #\u001b[92m #\u001b[92m #\u001b[90m _\u001b[90m _\u001b[90m _\u001b[90m _\u001b[90m _\u001b[90m _\u001b[90m _\u001b[92m #\u001b[92m #\u001b[92m #\u001b[92m #\n",
      "\u001b[92m #\u001b[92m #\u001b[92m #\u001b[92m #\u001b[90m _\u001b[90m _\u001b[90m _\u001b[90m _\u001b[90m _\u001b[90m _\u001b[90m _\u001b[92m #\u001b[92m #\u001b[92m #\u001b[90m _\u001b[90m _\n",
      "\u001b[92m #\u001b[92m #\u001b[92m #\u001b[90m _\u001b[90m _\u001b[90m _\u001b[90m _\u001b[90m _\u001b[90m _\u001b[90m _\u001b[92m #\u001b[92m #\u001b[92m #\u001b[90m _\u001b[90m _\u001b[90m _\n",
      "\u001b[92m #\u001b[90m _\u001b[90m _\u001b[90m _\u001b[90m _\u001b[90m _\u001b[90m _\u001b[90m _\u001b[90m _\u001b[92m #\u001b[92m #\u001b[92m #\u001b[90m _\u001b[90m _\u001b[90m _\u001b[90m _\n",
      "\u001b[90m _\u001b[90m _\u001b[90m _\u001b[90m _\u001b[90m _\u001b[90m _\u001b[90m _\u001b[90m _\u001b[92m #\u001b[92m #\u001b[92m #\u001b[90m _\u001b[90m _\u001b[90m _\u001b[90m _\u001b[90m _\n",
      "\u001b[90m _\u001b[90m _\u001b[90m _\u001b[90m _\u001b[90m _\u001b[90m _\u001b[92m #\u001b[92m #\u001b[92m #\u001b[92m #\u001b[90m _\u001b[90m _\u001b[90m _\u001b[90m _\u001b[90m _\u001b[90m _\n",
      "\u001b[90m _\u001b[90m _\u001b[90m _\u001b[90m _\u001b[90m _\u001b[92m #\u001b[92m #\u001b[92m #\u001b[92m #\u001b[90m _\u001b[90m _\u001b[90m _\u001b[90m _\u001b[90m _\u001b[90m _\u001b[90m _\n",
      "\u001b[90m _\u001b[90m _\u001b[90m _\u001b[90m _\u001b[92m #\u001b[92m #\u001b[92m #\u001b[92m #\u001b[90m _\u001b[90m _\u001b[90m _\u001b[90m _\u001b[90m _\u001b[90m _\u001b[90m _\u001b[92m #\n",
      "\u001b[90m _\u001b[90m _\u001b[90m _\u001b[92m #\u001b[92m #\u001b[92m #\u001b[92m #\u001b[90m _\u001b[90m _\u001b[90m _\u001b[90m _\u001b[90m _\u001b[90m _\u001b[90m _\u001b[92m #\u001b[92m #\n",
      "\u001b[00m\n"
     ]
    }
   ],
   "source": [
    "# Print best 16x16 targets\n",
    "print('Best output for random target')\n",
    "pretty_print(cppn_outputs[0][0][np.argmax(cppn_fitness[0][0])])\n",
    "print('Best output for checkerboard target')\n",
    "pretty_print(cppn_outputs[0][1][np.argmax(cppn_fitness[0][1])])"
   ]
  },
  {
   "cell_type": "markdown",
   "metadata": {},
   "source": [
    "# Recurrent CPPN"
   ]
  },
  {
   "cell_type": "raw",
   "metadata": {},
   "source": [
    "Here we keep the bounds fixed and vary the number of iterations "
   ]
  },
  {
   "cell_type": "code",
   "execution_count": 97,
   "metadata": {
    "collapsed": false
   },
   "outputs": [
    {
     "name": "stdout",
     "output_type": "stream",
     "text": [
      "0 0 0\n"
     ]
    },
    {
     "ename": "KeyboardInterrupt",
     "evalue": "",
     "output_type": "error",
     "traceback": [
      "\u001b[0;31m---------------------------------------------------------------------------\u001b[0m",
      "\u001b[0;31mKeyboardInterrupt\u001b[0m                         Traceback (most recent call last)",
      "\u001b[0;32m<ipython-input-97-11ed8386dfdf>\u001b[0m in \u001b[0;36m<module>\u001b[0;34m()\u001b[0m\n\u001b[1;32m     14\u001b[0m         \u001b[0;32mfor\u001b[0m \u001b[0mri\u001b[0m \u001b[0;32min\u001b[0m \u001b[0mrange\u001b[0m\u001b[0;34m(\u001b[0m\u001b[0mnum_repeats\u001b[0m\u001b[0;34m)\u001b[0m\u001b[0;34m:\u001b[0m\u001b[0;34m\u001b[0m\u001b[0m\n\u001b[1;32m     15\u001b[0m             \u001b[0mprint\u001b[0m\u001b[0;34m(\u001b[0m\u001b[0msi\u001b[0m\u001b[0;34m,\u001b[0m \u001b[0mti\u001b[0m\u001b[0;34m,\u001b[0m \u001b[0mri\u001b[0m\u001b[0;34m)\u001b[0m\u001b[0;34m\u001b[0m\u001b[0m\n\u001b[0;32m---> 16\u001b[0;31m             \u001b[0mfitness\u001b[0m\u001b[0;34m,\u001b[0m \u001b[0moutput\u001b[0m \u001b[0;34m=\u001b[0m \u001b[0mcppn\u001b[0m\u001b[0;34m.\u001b[0m\u001b[0mevolve_recurrent_cppn\u001b[0m\u001b[0;34m(\u001b[0m\u001b[0mrecurrent_config\u001b[0m\u001b[0;34m,\u001b[0m \u001b[0mtarget\u001b[0m\u001b[0;34m,\u001b[0m \u001b[0ms\u001b[0m\u001b[0;34m,\u001b[0m \u001b[0mnum_gens\u001b[0m\u001b[0;34m)\u001b[0m\u001b[0;34m\u001b[0m\u001b[0m\n\u001b[0m\u001b[1;32m     17\u001b[0m \u001b[0;34m\u001b[0m\u001b[0m\n\u001b[1;32m     18\u001b[0m             \u001b[0mrecurr_fitness\u001b[0m\u001b[0;34m[\u001b[0m\u001b[0msi\u001b[0m\u001b[0;34m,\u001b[0m \u001b[0mti\u001b[0m\u001b[0;34m,\u001b[0m \u001b[0mri\u001b[0m\u001b[0;34m]\u001b[0m \u001b[0;34m=\u001b[0m \u001b[0mfitness\u001b[0m\u001b[0;34m\u001b[0m\u001b[0m\n",
      "\u001b[0;32m/Users/joelsimon/Projects/modular_cppns/cppn.py\u001b[0m in \u001b[0;36mevolve_recurrent_cppn\u001b[0;34m(config, pattern, max_steps, generations)\u001b[0m\n\u001b[1;32m    102\u001b[0m         \u001b[0;32mreturn\u001b[0m \u001b[0mexpress_recurrent_cppn\u001b[0m\u001b[0;34m(\u001b[0m\u001b[0mnet\u001b[0m\u001b[0;34m,\u001b[0m \u001b[0mw\u001b[0m\u001b[0;34m,\u001b[0m \u001b[0mh\u001b[0m\u001b[0;34m,\u001b[0m \u001b[0mmax_steps\u001b[0m\u001b[0;34m)\u001b[0m\u001b[0;34m\u001b[0m\u001b[0m\n\u001b[1;32m    103\u001b[0m \u001b[0;34m\u001b[0m\u001b[0m\n\u001b[0;32m--> 104\u001b[0;31m     \u001b[0;32mreturn\u001b[0m \u001b[0mevolve\u001b[0m\u001b[0;34m(\u001b[0m\u001b[0mconfig\u001b[0m\u001b[0;34m,\u001b[0m \u001b[0meval_func\u001b[0m\u001b[0;34m,\u001b[0m \u001b[0mpattern\u001b[0m\u001b[0;34m,\u001b[0m \u001b[0mgenerations\u001b[0m\u001b[0;34m)\u001b[0m\u001b[0;34m\u001b[0m\u001b[0m\n\u001b[0m\u001b[1;32m    105\u001b[0m \u001b[0;34m\u001b[0m\u001b[0m\n\u001b[1;32m    106\u001b[0m \u001b[0;34m\u001b[0m\u001b[0m\n",
      "\u001b[0;32m/Users/joelsimon/Projects/modular_cppns/cppn.py\u001b[0m in \u001b[0;36mevolve\u001b[0;34m(config, eval_func, pattern, generations)\u001b[0m\n\u001b[1;32m     86\u001b[0m         \u001b[0;31m# evaluate(best, log=True)\u001b[0m\u001b[0;34m\u001b[0m\u001b[0;34m\u001b[0m\u001b[0m\n\u001b[1;32m     87\u001b[0m \u001b[0;34m\u001b[0m\u001b[0m\n\u001b[0;32m---> 88\u001b[0;31m     \u001b[0mpop\u001b[0m\u001b[0;34m.\u001b[0m\u001b[0mrun\u001b[0m\u001b[0;34m(\u001b[0m\u001b[0mevaluate_all\u001b[0m\u001b[0;34m,\u001b[0m \u001b[0mgenerations\u001b[0m\u001b[0;34m)\u001b[0m\u001b[0;34m\u001b[0m\u001b[0m\n\u001b[0m\u001b[1;32m     89\u001b[0m \u001b[0;34m\u001b[0m\u001b[0m\n\u001b[1;32m     90\u001b[0m     \u001b[0mwinner\u001b[0m \u001b[0;34m=\u001b[0m \u001b[0mpop\u001b[0m\u001b[0;34m.\u001b[0m\u001b[0mstatistics\u001b[0m\u001b[0;34m.\u001b[0m\u001b[0mbest_genome\u001b[0m\u001b[0;34m(\u001b[0m\u001b[0;34m)\u001b[0m\u001b[0;34m\u001b[0m\u001b[0m\n",
      "\u001b[0;32m/Library/Frameworks/Python.framework/Versions/3.4/lib/python3.4/site-packages/neat/population.py\u001b[0m in \u001b[0;36mrun\u001b[0;34m(self, fitness_function, n)\u001b[0m\n\u001b[1;32m    185\u001b[0m             \u001b[0;31m# genome doesn't change--in these cases, evaluating unmodified elites in each\u001b[0m\u001b[0;34m\u001b[0m\u001b[0;34m\u001b[0m\u001b[0m\n\u001b[1;32m    186\u001b[0m             \u001b[0;31m# generation is a waste of time.\u001b[0m\u001b[0;34m\u001b[0m\u001b[0;34m\u001b[0m\u001b[0m\n\u001b[0;32m--> 187\u001b[0;31m             \u001b[0mfitness_function\u001b[0m\u001b[0;34m(\u001b[0m\u001b[0mpopulation\u001b[0m\u001b[0;34m)\u001b[0m\u001b[0;34m\u001b[0m\u001b[0m\n\u001b[0m\u001b[1;32m    188\u001b[0m             \u001b[0mself\u001b[0m\u001b[0;34m.\u001b[0m\u001b[0mtotal_evaluations\u001b[0m \u001b[0;34m+=\u001b[0m \u001b[0mlen\u001b[0m\u001b[0;34m(\u001b[0m\u001b[0mpopulation\u001b[0m\u001b[0;34m)\u001b[0m\u001b[0;34m\u001b[0m\u001b[0m\n\u001b[1;32m    189\u001b[0m \u001b[0;34m\u001b[0m\u001b[0m\n",
      "\u001b[0;32m/Users/joelsimon/Projects/modular_cppns/cppn.py\u001b[0m in \u001b[0;36mevaluate_all\u001b[0;34m(genomes)\u001b[0m\n\u001b[1;32m     80\u001b[0m         \u001b[0;32mfor\u001b[0m \u001b[0mg\u001b[0m \u001b[0;32min\u001b[0m \u001b[0mgenomes\u001b[0m\u001b[0;34m:\u001b[0m\u001b[0;34m\u001b[0m\u001b[0m\n\u001b[1;32m     81\u001b[0m             \u001b[0mnet\u001b[0m \u001b[0;34m=\u001b[0m \u001b[0mnn\u001b[0m\u001b[0;34m.\u001b[0m\u001b[0mcreate_feed_forward_phenotype\u001b[0m\u001b[0;34m(\u001b[0m\u001b[0mg\u001b[0m\u001b[0;34m)\u001b[0m\u001b[0;34m\u001b[0m\u001b[0m\n\u001b[0;32m---> 82\u001b[0;31m             \u001b[0mout\u001b[0m \u001b[0;34m=\u001b[0m \u001b[0meval_func\u001b[0m\u001b[0;34m(\u001b[0m\u001b[0mnet\u001b[0m\u001b[0;34m,\u001b[0m \u001b[0mw\u001b[0m\u001b[0;34m,\u001b[0m \u001b[0mh\u001b[0m\u001b[0;34m)\u001b[0m\u001b[0;34m\u001b[0m\u001b[0m\n\u001b[0m\u001b[1;32m     83\u001b[0m             \u001b[0mg\u001b[0m\u001b[0;34m.\u001b[0m\u001b[0mfitness\u001b[0m \u001b[0;34m=\u001b[0m \u001b[0mdiff\u001b[0m\u001b[0;34m(\u001b[0m\u001b[0mpattern\u001b[0m\u001b[0;34m,\u001b[0m \u001b[0mout\u001b[0m\u001b[0;34m)\u001b[0m\u001b[0;34m\u001b[0m\u001b[0m\n\u001b[1;32m     84\u001b[0m \u001b[0;34m\u001b[0m\u001b[0m\n",
      "\u001b[0;32m/Users/joelsimon/Projects/modular_cppns/cppn.py\u001b[0m in \u001b[0;36meval_func\u001b[0;34m(net, w, h)\u001b[0m\n\u001b[1;32m    100\u001b[0m \u001b[0;34m\u001b[0m\u001b[0m\n\u001b[1;32m    101\u001b[0m     \u001b[0;32mdef\u001b[0m \u001b[0meval_func\u001b[0m \u001b[0;34m(\u001b[0m\u001b[0mnet\u001b[0m\u001b[0;34m,\u001b[0m \u001b[0mw\u001b[0m\u001b[0;34m,\u001b[0m \u001b[0mh\u001b[0m\u001b[0;34m)\u001b[0m\u001b[0;34m:\u001b[0m\u001b[0;34m\u001b[0m\u001b[0m\n\u001b[0;32m--> 102\u001b[0;31m         \u001b[0;32mreturn\u001b[0m \u001b[0mexpress_recurrent_cppn\u001b[0m\u001b[0;34m(\u001b[0m\u001b[0mnet\u001b[0m\u001b[0;34m,\u001b[0m \u001b[0mw\u001b[0m\u001b[0;34m,\u001b[0m \u001b[0mh\u001b[0m\u001b[0;34m,\u001b[0m \u001b[0mmax_steps\u001b[0m\u001b[0;34m)\u001b[0m\u001b[0;34m\u001b[0m\u001b[0m\n\u001b[0m\u001b[1;32m    103\u001b[0m \u001b[0;34m\u001b[0m\u001b[0m\n\u001b[1;32m    104\u001b[0m     \u001b[0;32mreturn\u001b[0m \u001b[0mevolve\u001b[0m\u001b[0;34m(\u001b[0m\u001b[0mconfig\u001b[0m\u001b[0;34m,\u001b[0m \u001b[0meval_func\u001b[0m\u001b[0;34m,\u001b[0m \u001b[0mpattern\u001b[0m\u001b[0;34m,\u001b[0m \u001b[0mgenerations\u001b[0m\u001b[0;34m)\u001b[0m\u001b[0;34m\u001b[0m\u001b[0m\n",
      "\u001b[0;32m/Users/joelsimon/Projects/modular_cppns/cppn.py\u001b[0m in \u001b[0;36mexpress_recurrent_cppn\u001b[0;34m(net, w, h, max_steps)\u001b[0m\n\u001b[1;32m     48\u001b[0m                     \u001b[0minputs\u001b[0m\u001b[0;34m[\u001b[0m\u001b[0;36m4\u001b[0m\u001b[0;34m]\u001b[0m \u001b[0;34m=\u001b[0m \u001b[0;34m(\u001b[0m\u001b[0mgrid\u001b[0m\u001b[0;34m[\u001b[0m\u001b[0mx\u001b[0m\u001b[0;34m+\u001b[0m\u001b[0;36m1\u001b[0m\u001b[0;34m,\u001b[0m \u001b[0my\u001b[0m\u001b[0;34m]\u001b[0m\u001b[0;34m)\u001b[0m \u001b[0;34m*\u001b[0m \u001b[0;36m2\u001b[0m \u001b[0;34m-\u001b[0m \u001b[0;36m1\u001b[0m\u001b[0;34m\u001b[0m\u001b[0m\n\u001b[1;32m     49\u001b[0m \u001b[0;34m\u001b[0m\u001b[0m\n\u001b[0;32m---> 50\u001b[0;31m                 \u001b[0;32mif\u001b[0m \u001b[0my\u001b[0m \u001b[0;34m>\u001b[0m \u001b[0;36m0\u001b[0m\u001b[0;34m:\u001b[0m\u001b[0;34m\u001b[0m\u001b[0m\n\u001b[0m\u001b[1;32m     51\u001b[0m                     \u001b[0minputs\u001b[0m\u001b[0;34m[\u001b[0m\u001b[0;36m5\u001b[0m\u001b[0;34m]\u001b[0m \u001b[0;34m=\u001b[0m \u001b[0;34m(\u001b[0m\u001b[0mgrid\u001b[0m\u001b[0;34m[\u001b[0m\u001b[0mx\u001b[0m\u001b[0;34m,\u001b[0m \u001b[0my\u001b[0m\u001b[0;34m-\u001b[0m\u001b[0;36m1\u001b[0m\u001b[0;34m]\u001b[0m\u001b[0;34m)\u001b[0m \u001b[0;34m*\u001b[0m \u001b[0;36m2\u001b[0m \u001b[0;34m-\u001b[0m \u001b[0;36m1\u001b[0m\u001b[0;34m\u001b[0m\u001b[0m\n\u001b[1;32m     52\u001b[0m \u001b[0;34m\u001b[0m\u001b[0m\n",
      "\u001b[0;31mKeyboardInterrupt\u001b[0m: "
     ]
    }
   ],
   "source": [
    "import copy\n",
    "num_steps = [2, 4, 8]\n",
    "\n",
    "recurrent_config = copy.deepcopy(config)\n",
    "config.input_nodes = 7\n",
    "\n",
    "recurr_fitness = np.zeros((len(num_steps), 2, num_repeats), dtype=float)\n",
    "recurr_outputs = np.zeros((len(num_steps), 2, num_repeats), dtype=object)\n",
    "\n",
    "for si, s in enumerate(num_steps):\n",
    "\n",
    "    for ti, target in enumerate(targets[0]):\n",
    "\n",
    "        for ri in range(num_repeats):\n",
    "            print(si, ti, ri)\n",
    "            fitness, output = cppn.evolve_recurrent_cppn(recurrent_config, target, s, num_gens)\n",
    "\n",
    "            recurr_fitness[si, ti, ri] = fitness\n",
    "            recurr_outputs[si, ti, ri] = output\n"
   ]
  },
  {
   "cell_type": "code",
   "execution_count": null,
   "metadata": {
    "collapsed": true
   },
   "outputs": [],
   "source": [
    "plot(recurr_fitness, num_steps, 'Recurrent CPPN')"
   ]
  },
  {
   "cell_type": "code",
   "execution_count": null,
   "metadata": {
    "collapsed": true
   },
   "outputs": [],
   "source": [
    "best_checker_16 = np.argmax(recurr_fitness[0][1])\n",
    "pretty_print(recurr_outputs[0][1][best_checker_16])"
   ]
  }
 ],
 "metadata": {
  "kernelspec": {
   "display_name": "Python 3",
   "language": "python",
   "name": "python3"
  },
  "language_info": {
   "codemirror_mode": {
    "name": "ipython",
    "version": 3
   },
   "file_extension": ".py",
   "mimetype": "text/x-python",
   "name": "python",
   "nbconvert_exporter": "python",
   "pygments_lexer": "ipython3",
   "version": "3.4.4"
  }
 },
 "nbformat": 4,
 "nbformat_minor": 2
}
